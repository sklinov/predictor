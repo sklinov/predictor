{
 "cells": [
  {
   "cell_type": "code",
   "execution_count": 1,
   "metadata": {},
   "outputs": [],
   "source": [
    "import numpy as np\n",
    "import pandas as pd\n",
    "import matplotlib.pyplot as plt"
   ]
  },
  {
   "cell_type": "code",
   "execution_count": 3,
   "metadata": {},
   "outputs": [],
   "source": [
    "money = pd.read_csv(\"money.csv\")\n",
    "\n",
    "# merge dataframes: money[new_col] = ..."
   ]
  },
  {
   "cell_type": "code",
   "execution_count": 4,
   "metadata": {},
   "outputs": [
    {
     "data": {
      "text/html": [
       "<div>\n",
       "<style scoped>\n",
       "    .dataframe tbody tr th:only-of-type {\n",
       "        vertical-align: middle;\n",
       "    }\n",
       "\n",
       "    .dataframe tbody tr th {\n",
       "        vertical-align: top;\n",
       "    }\n",
       "\n",
       "    .dataframe thead th {\n",
       "        text-align: right;\n",
       "    }\n",
       "</style>\n",
       "<table border=\"1\" class=\"dataframe\">\n",
       "  <thead>\n",
       "    <tr style=\"text-align: right;\">\n",
       "      <th></th>\n",
       "      <th>Unnamed: 0</th>\n",
       "      <th>date</th>\n",
       "      <th>value</th>\n",
       "    </tr>\n",
       "  </thead>\n",
       "  <tbody>\n",
       "    <tr>\n",
       "      <th>0</th>\n",
       "      <td>0</td>\n",
       "      <td>2018-01-10</td>\n",
       "      <td>57.0463</td>\n",
       "    </tr>\n",
       "    <tr>\n",
       "      <th>1</th>\n",
       "      <td>1</td>\n",
       "      <td>2018-01-11</td>\n",
       "      <td>56.8734</td>\n",
       "    </tr>\n",
       "    <tr>\n",
       "      <th>2</th>\n",
       "      <td>2</td>\n",
       "      <td>2018-01-12</td>\n",
       "      <td>56.9957</td>\n",
       "    </tr>\n",
       "    <tr>\n",
       "      <th>3</th>\n",
       "      <td>3</td>\n",
       "      <td>2018-01-13</td>\n",
       "      <td>56.6019</td>\n",
       "    </tr>\n",
       "    <tr>\n",
       "      <th>4</th>\n",
       "      <td>4</td>\n",
       "      <td>2018-01-16</td>\n",
       "      <td>56.3569</td>\n",
       "    </tr>\n",
       "  </tbody>\n",
       "</table>\n",
       "</div>"
      ],
      "text/plain": [
       "   Unnamed: 0        date    value\n",
       "0           0  2018-01-10  57.0463\n",
       "1           1  2018-01-11  56.8734\n",
       "2           2  2018-01-12  56.9957\n",
       "3           3  2018-01-13  56.6019\n",
       "4           4  2018-01-16  56.3569"
      ]
     },
     "execution_count": 4,
     "metadata": {},
     "output_type": "execute_result"
    }
   ],
   "source": [
    "money.head(5) # head -> выводит указанное число строк"
   ]
  },
  {
   "cell_type": "code",
   "execution_count": 5,
   "metadata": {},
   "outputs": [],
   "source": [
    "# Определение интервалов\n",
    "# Глубина в прошлое ( дней * недель)\n",
    "past = 7 * 4\n",
    "# Глубина в будущее (дней * недель)\n",
    "future = 7 * 1"
   ]
  },
  {
   "cell_type": "code",
   "execution_count": 6,
   "metadata": {},
   "outputs": [],
   "source": [
    "df = list()"
   ]
  },
  {
   "cell_type": "code",
   "execution_count": 17,
   "metadata": {},
   "outputs": [
    {
     "name": "stdout",
     "output_type": "stream",
     "text": [
      "В датасете 357 строк\n"
     ]
    }
   ],
   "source": [
    "# len -> length -> длина\n",
    "\n",
    "print(\"В датасете {} строк\".format(len(money)))"
   ]
  },
  {
   "cell_type": "code",
   "execution_count": 19,
   "metadata": {},
   "outputs": [
    {
     "name": "stdout",
     "output_type": "stream",
     "text": [
      "[1, 2, 3]\n"
     ]
    }
   ],
   "source": [
    "our_array = [1, 2, 3]\n",
    "print(our_array)"
   ]
  },
  {
   "cell_type": "code",
   "execution_count": 20,
   "metadata": {},
   "outputs": [
    {
     "name": "stdout",
     "output_type": "stream",
     "text": [
      "[1, 2, 3, 4]\n",
      "[1, 2, 3, 4, 5]\n",
      "[1, 2, 3, 4, 5, 6]\n"
     ]
    }
   ],
   "source": [
    "for i in range(4, 7):\n",
    "    our_array.append(i)\n",
    "    print(our_array)"
   ]
  },
  {
   "cell_type": "code",
   "execution_count": 21,
   "metadata": {},
   "outputs": [
    {
     "data": {
      "text/plain": [
       "1"
      ]
     },
     "execution_count": 21,
     "metadata": {},
     "output_type": "execute_result"
    }
   ],
   "source": [
    "our_array[0]"
   ]
  },
  {
   "cell_type": "code",
   "execution_count": 22,
   "metadata": {},
   "outputs": [
    {
     "data": {
      "text/plain": [
       "4"
      ]
     },
     "execution_count": 22,
     "metadata": {},
     "output_type": "execute_result"
    }
   ],
   "source": [
    "our_array[3]"
   ]
  },
  {
   "cell_type": "code",
   "execution_count": 23,
   "metadata": {},
   "outputs": [
    {
     "data": {
      "text/plain": [
       "[1, 2, 3, 4]"
      ]
     },
     "execution_count": 23,
     "metadata": {},
     "output_type": "execute_result"
    }
   ],
   "source": [
    "our_array[0:4] #конец не включается => 0, 1, 2, 3"
   ]
  },
  {
   "cell_type": "code",
   "execution_count": 24,
   "metadata": {},
   "outputs": [
    {
     "data": {
      "text/plain": [
       "[3, 4]"
      ]
     },
     "execution_count": 24,
     "metadata": {},
     "output_type": "execute_result"
    }
   ],
   "source": [
    "our_array[2:4] #конец не включается => 2, 3"
   ]
  },
  {
   "cell_type": "code",
   "execution_count": 47,
   "metadata": {},
   "outputs": [
    {
     "data": {
      "text/plain": [
       "[1, 2]"
      ]
     },
     "execution_count": 47,
     "metadata": {},
     "output_type": "execute_result"
    }
   ],
   "source": [
    "our_array[0:-4]"
   ]
  },
  {
   "cell_type": "code",
   "execution_count": null,
   "metadata": {},
   "outputs": [],
   "source": []
  },
  {
   "cell_type": "code",
   "execution_count": null,
   "metadata": {},
   "outputs": [],
   "source": []
  },
  {
   "cell_type": "code",
   "execution_count": 35,
   "metadata": {},
   "outputs": [],
   "source": [
    "df = list()\n",
    "values = money[\"value\"]\n",
    "\n",
    "for i in range(past, len(money) - future):\n",
    "    part_of_values = values[(i-past):(i+future)]\n",
    "    df.append(list(part_of_values))"
   ]
  },
  {
   "cell_type": "code",
   "execution_count": 39,
   "metadata": {},
   "outputs": [],
   "source": [
    "past_columns = [f\"past_{i + 1}\" for i in range(past)]\n",
    "future_columns = [f\"future_{i + 1}\" for i in range(future)]"
   ]
  },
  {
   "cell_type": "code",
   "execution_count": 41,
   "metadata": {},
   "outputs": [],
   "source": [
    "df = pd.DataFrame(df, columns=(past_columns + future_columns))"
   ]
  },
  {
   "cell_type": "code",
   "execution_count": 42,
   "metadata": {},
   "outputs": [
    {
     "data": {
      "text/html": [
       "<div>\n",
       "<style scoped>\n",
       "    .dataframe tbody tr th:only-of-type {\n",
       "        vertical-align: middle;\n",
       "    }\n",
       "\n",
       "    .dataframe tbody tr th {\n",
       "        vertical-align: top;\n",
       "    }\n",
       "\n",
       "    .dataframe thead th {\n",
       "        text-align: right;\n",
       "    }\n",
       "</style>\n",
       "<table border=\"1\" class=\"dataframe\">\n",
       "  <thead>\n",
       "    <tr style=\"text-align: right;\">\n",
       "      <th></th>\n",
       "      <th>past_1</th>\n",
       "      <th>past_2</th>\n",
       "      <th>past_3</th>\n",
       "      <th>past_4</th>\n",
       "      <th>past_5</th>\n",
       "      <th>past_6</th>\n",
       "      <th>past_7</th>\n",
       "      <th>past_8</th>\n",
       "      <th>past_9</th>\n",
       "      <th>past_10</th>\n",
       "      <th>...</th>\n",
       "      <th>past_26</th>\n",
       "      <th>past_27</th>\n",
       "      <th>past_28</th>\n",
       "      <th>future_1</th>\n",
       "      <th>future_2</th>\n",
       "      <th>future_3</th>\n",
       "      <th>future_4</th>\n",
       "      <th>future_5</th>\n",
       "      <th>future_6</th>\n",
       "      <th>future_7</th>\n",
       "    </tr>\n",
       "  </thead>\n",
       "  <tbody>\n",
       "    <tr>\n",
       "      <th>0</th>\n",
       "      <td>57.0463</td>\n",
       "      <td>56.8734</td>\n",
       "      <td>56.9957</td>\n",
       "      <td>56.6019</td>\n",
       "      <td>56.3569</td>\n",
       "      <td>56.3878</td>\n",
       "      <td>56.5925</td>\n",
       "      <td>56.7597</td>\n",
       "      <td>56.5892</td>\n",
       "      <td>56.6261</td>\n",
       "      <td>...</td>\n",
       "      <td>57.7701</td>\n",
       "      <td>57.5899</td>\n",
       "      <td>56.5918</td>\n",
       "      <td>56.3554</td>\n",
       "      <td>56.3438</td>\n",
       "      <td>56.5201</td>\n",
       "      <td>56.6537</td>\n",
       "      <td>56.7608</td>\n",
       "      <td>55.9208</td>\n",
       "      <td>55.6717</td>\n",
       "    </tr>\n",
       "    <tr>\n",
       "      <th>1</th>\n",
       "      <td>56.8734</td>\n",
       "      <td>56.9957</td>\n",
       "      <td>56.6019</td>\n",
       "      <td>56.3569</td>\n",
       "      <td>56.3878</td>\n",
       "      <td>56.5925</td>\n",
       "      <td>56.7597</td>\n",
       "      <td>56.5892</td>\n",
       "      <td>56.6261</td>\n",
       "      <td>56.4115</td>\n",
       "      <td>...</td>\n",
       "      <td>57.5899</td>\n",
       "      <td>56.5918</td>\n",
       "      <td>56.3554</td>\n",
       "      <td>56.3438</td>\n",
       "      <td>56.5201</td>\n",
       "      <td>56.6537</td>\n",
       "      <td>56.7608</td>\n",
       "      <td>55.9208</td>\n",
       "      <td>55.6717</td>\n",
       "      <td>56.3742</td>\n",
       "    </tr>\n",
       "    <tr>\n",
       "      <th>2</th>\n",
       "      <td>56.9957</td>\n",
       "      <td>56.6019</td>\n",
       "      <td>56.3569</td>\n",
       "      <td>56.3878</td>\n",
       "      <td>56.5925</td>\n",
       "      <td>56.7597</td>\n",
       "      <td>56.5892</td>\n",
       "      <td>56.6261</td>\n",
       "      <td>56.4115</td>\n",
       "      <td>56.3888</td>\n",
       "      <td>...</td>\n",
       "      <td>56.5918</td>\n",
       "      <td>56.3554</td>\n",
       "      <td>56.3438</td>\n",
       "      <td>56.5201</td>\n",
       "      <td>56.6537</td>\n",
       "      <td>56.7608</td>\n",
       "      <td>55.9208</td>\n",
       "      <td>55.6717</td>\n",
       "      <td>56.3742</td>\n",
       "      <td>56.4334</td>\n",
       "    </tr>\n",
       "    <tr>\n",
       "      <th>3</th>\n",
       "      <td>56.6019</td>\n",
       "      <td>56.3569</td>\n",
       "      <td>56.3878</td>\n",
       "      <td>56.5925</td>\n",
       "      <td>56.7597</td>\n",
       "      <td>56.5892</td>\n",
       "      <td>56.6261</td>\n",
       "      <td>56.4115</td>\n",
       "      <td>56.3888</td>\n",
       "      <td>55.9288</td>\n",
       "      <td>...</td>\n",
       "      <td>56.3554</td>\n",
       "      <td>56.3438</td>\n",
       "      <td>56.5201</td>\n",
       "      <td>56.6537</td>\n",
       "      <td>56.7608</td>\n",
       "      <td>55.9208</td>\n",
       "      <td>55.6717</td>\n",
       "      <td>56.3742</td>\n",
       "      <td>56.4334</td>\n",
       "      <td>56.6616</td>\n",
       "    </tr>\n",
       "    <tr>\n",
       "      <th>4</th>\n",
       "      <td>56.3569</td>\n",
       "      <td>56.3878</td>\n",
       "      <td>56.5925</td>\n",
       "      <td>56.7597</td>\n",
       "      <td>56.5892</td>\n",
       "      <td>56.6261</td>\n",
       "      <td>56.4115</td>\n",
       "      <td>56.3888</td>\n",
       "      <td>55.9288</td>\n",
       "      <td>55.8288</td>\n",
       "      <td>...</td>\n",
       "      <td>56.3438</td>\n",
       "      <td>56.5201</td>\n",
       "      <td>56.6537</td>\n",
       "      <td>56.7608</td>\n",
       "      <td>55.9208</td>\n",
       "      <td>55.6717</td>\n",
       "      <td>56.3742</td>\n",
       "      <td>56.4334</td>\n",
       "      <td>56.6616</td>\n",
       "      <td>57.1000</td>\n",
       "    </tr>\n",
       "  </tbody>\n",
       "</table>\n",
       "<p>5 rows × 35 columns</p>\n",
       "</div>"
      ],
      "text/plain": [
       "    past_1   past_2   past_3   past_4   past_5   past_6   past_7   past_8  \\\n",
       "0  57.0463  56.8734  56.9957  56.6019  56.3569  56.3878  56.5925  56.7597   \n",
       "1  56.8734  56.9957  56.6019  56.3569  56.3878  56.5925  56.7597  56.5892   \n",
       "2  56.9957  56.6019  56.3569  56.3878  56.5925  56.7597  56.5892  56.6261   \n",
       "3  56.6019  56.3569  56.3878  56.5925  56.7597  56.5892  56.6261  56.4115   \n",
       "4  56.3569  56.3878  56.5925  56.7597  56.5892  56.6261  56.4115  56.3888   \n",
       "\n",
       "    past_9  past_10  ...  past_26  past_27  past_28  future_1  future_2  \\\n",
       "0  56.5892  56.6261  ...  57.7701  57.5899  56.5918   56.3554   56.3438   \n",
       "1  56.6261  56.4115  ...  57.5899  56.5918  56.3554   56.3438   56.5201   \n",
       "2  56.4115  56.3888  ...  56.5918  56.3554  56.3438   56.5201   56.6537   \n",
       "3  56.3888  55.9288  ...  56.3554  56.3438  56.5201   56.6537   56.7608   \n",
       "4  55.9288  55.8288  ...  56.3438  56.5201  56.6537   56.7608   55.9208   \n",
       "\n",
       "   future_3  future_4  future_5  future_6  future_7  \n",
       "0   56.5201   56.6537   56.7608   55.9208   55.6717  \n",
       "1   56.6537   56.7608   55.9208   55.6717   56.3742  \n",
       "2   56.7608   55.9208   55.6717   56.3742   56.4334  \n",
       "3   55.9208   55.6717   56.3742   56.4334   56.6616  \n",
       "4   55.6717   56.3742   56.4334   56.6616   57.1000  \n",
       "\n",
       "[5 rows x 35 columns]"
      ]
     },
     "execution_count": 42,
     "metadata": {},
     "output_type": "execute_result"
    }
   ],
   "source": [
    "df.head(5)"
   ]
  },
  {
   "cell_type": "code",
   "execution_count": null,
   "metadata": {},
   "outputs": [],
   "source": []
  },
  {
   "cell_type": "code",
   "execution_count": 44,
   "metadata": {},
   "outputs": [],
   "source": [
    "X = df[past_columns][0:-1] # прошлое + строки за исключением последней\n",
    "y = df[future_columns][0:-1] # будущему + строки за исключением последней"
   ]
  },
  {
   "cell_type": "code",
   "execution_count": 48,
   "metadata": {},
   "outputs": [],
   "source": [
    "X_test = df[past_columns][-1:]\n",
    "y_test = df[future_columns][-1:]"
   ]
  },
  {
   "cell_type": "code",
   "execution_count": null,
   "metadata": {},
   "outputs": [],
   "source": []
  },
  {
   "cell_type": "code",
   "execution_count": 52,
   "metadata": {},
   "outputs": [],
   "source": [
    "from sklearn.linear_model import LinearRegression"
   ]
  },
  {
   "cell_type": "code",
   "execution_count": 53,
   "metadata": {},
   "outputs": [],
   "source": [
    "reg = LinearRegression().fit(X, y)"
   ]
  },
  {
   "cell_type": "code",
   "execution_count": 54,
   "metadata": {},
   "outputs": [
    {
     "name": "stdout",
     "output_type": "stream",
     "text": [
      "LinearRegression(copy_X=True, fit_intercept=True, n_jobs=None, normalize=False)\n"
     ]
    }
   ],
   "source": [
    "print(reg)"
   ]
  },
  {
   "cell_type": "code",
   "execution_count": null,
   "metadata": {},
   "outputs": [],
   "source": []
  },
  {
   "cell_type": "code",
   "execution_count": 59,
   "metadata": {},
   "outputs": [
    {
     "name": "stdout",
     "output_type": "stream",
     "text": [
      "[65.01983218 64.9241458  64.88399836 64.85890282 64.86547712 64.83118503\n",
      " 64.82545407]\n"
     ]
    }
   ],
   "source": [
    "prediction = reg.predict(X_test)[0]\n",
    "print(prediction)"
   ]
  },
  {
   "cell_type": "code",
   "execution_count": 60,
   "metadata": {},
   "outputs": [
    {
     "name": "stdout",
     "output_type": "stream",
     "text": [
      "     future_1  future_2  future_3  future_4  future_5  future_6  future_7\n",
      "321   64.7919   64.5158   64.6314   64.4326   64.3187   64.3352   63.9794\n"
     ]
    }
   ],
   "source": [
    "print(y_test)"
   ]
  },
  {
   "cell_type": "code",
   "execution_count": 64,
   "metadata": {},
   "outputs": [
    {
     "name": "stdout",
     "output_type": "stream",
     "text": [
      "     future_1  future_2  future_3  future_4  future_5  future_6  future_7\n",
      "321  0.227932  0.408346  0.252598  0.426303  0.546777  0.495985  0.846054\n"
     ]
    }
   ],
   "source": [
    "print(prediction - y_test)"
   ]
  },
  {
   "cell_type": "code",
   "execution_count": 61,
   "metadata": {},
   "outputs": [
    {
     "name": "stdout",
     "output_type": "stream",
     "text": [
      "1.3133976070933695\n"
     ]
    }
   ],
   "source": [
    "print(np.linalg.norm(prediction - y_test))"
   ]
  },
  {
   "cell_type": "code",
   "execution_count": null,
   "metadata": {},
   "outputs": [],
   "source": []
  },
  {
   "cell_type": "code",
   "execution_count": 66,
   "metadata": {},
   "outputs": [
    {
     "data": {
      "text/plain": [
       "<matplotlib.legend.Legend at 0x7f4586fc3400>"
      ]
     },
     "execution_count": 66,
     "metadata": {},
     "output_type": "execute_result"
    },
    {
     "data": {
      "image/png": "[encoded data removed]",
      "text/plain": [
       "<Figure size 432x288 with 1 Axes>"
      ]
     },
     "metadata": {
      "needs_background": "light"
     },
     "output_type": "display_data"
    }
   ],
   "source": [
    "plt.plot(prediction, label=\"predicted\") # label <- легенда\n",
    "plt.plot(df[future_columns].iloc[-1], label=\"real\") # iloc <- вытаскивает элемент на указанной позиции\n",
    "plt.legend() # <- отрисовывает окошко с легендами"
   ]
  },
  {
   "cell_type": "code",
   "execution_count": null,
   "metadata": {},
   "outputs": [],
   "source": []
  },
  {
   "cell_type": "code",
   "execution_count": 67,
   "metadata": {},
   "outputs": [],
   "source": [
    "from sklearn.neighbors import KNeighborsRegressor"
   ]
  },
  {
   "cell_type": "code",
   "execution_count": 68,
   "metadata": {},
   "outputs": [],
   "source": [
    "reg = KNeighborsRegressor(n_neighbors=5).fit(X, y)"
   ]
  },
  {
   "cell_type": "code",
   "execution_count": 69,
   "metadata": {},
   "outputs": [
    {
     "name": "stdout",
     "output_type": "stream",
     "text": [
      "[65.21936 65.16716 64.89924 64.66956 64.55446 64.50084 64.4225 ]\n",
      "     future_1  future_2  future_3  future_4  future_5  future_6  future_7\n",
      "321   64.7919   64.5158   64.6314   64.4326   64.3187   64.3352   63.9794\n"
     ]
    }
   ],
   "source": [
    "prediction = reg.predict(X_test)[0]\n",
    "print(prediction)\n",
    "\n",
    "print(y_test)"
   ]
  },
  {
   "cell_type": "code",
   "execution_count": 71,
   "metadata": {},
   "outputs": [
    {
     "name": "stdout",
     "output_type": "stream",
     "text": [
      "1.0070934443238118\n"
     ]
    }
   ],
   "source": [
    "print(np.linalg.norm(prediction - y_test))"
   ]
  },
  {
   "cell_type": "code",
   "execution_count": 70,
   "metadata": {},
   "outputs": [
    {
     "data": {
      "text/plain": [
       "<matplotlib.legend.Legend at 0x7f45869df630>"
      ]
     },
     "execution_count": 70,
     "metadata": {},
     "output_type": "execute_result"
    },
    {
     "data": {
      "image/png": "[encoded data removed]",
      "text/plain": [
       "<Figure size 432x288 with 1 Axes>"
      ]
     },
     "metadata": {
      "needs_background": "light"
     },
     "output_type": "display_data"
    }
   ],
   "source": [
    "plt.plot(prediction, label=\"predicted\") # label <- легенда\n",
    "plt.plot(df[future_columns].iloc[-1], label=\"real\") # iloc <- вытаскивает элемент на указанной позиции\n",
    "plt.legend() # <- отрисовывает окошко с легендами"
   ]
  },
  {
   "cell_type": "code",
   "execution_count": null,
   "metadata": {},
   "outputs": [],
   "source": []
  },
  {
   "cell_type": "code",
   "execution_count": null,
   "metadata": {},
   "outputs": [],
   "source": []
  },
  {
   "cell_type": "code",
   "execution_count": 74,
   "metadata": {},
   "outputs": [],
   "source": [
    "from sklearn import linear_model"
   ]
  },
  {
   "cell_type": "code",
   "execution_count": 75,
   "metadata": {},
   "outputs": [],
   "source": [
    "reg = linear_model.LassoLars(alpha=.1).fit(X, y)"
   ]
  },
  {
   "cell_type": "code",
   "execution_count": 76,
   "metadata": {},
   "outputs": [
    {
     "name": "stdout",
     "output_type": "stream",
     "text": [
      "[64.56553676 64.57015297 64.57608652 64.58314057 64.59003024 64.59522758\n",
      " 64.60243664]\n",
      "     future_1  future_2  future_3  future_4  future_5  future_6  future_7\n",
      "321   64.7919   64.5158   64.6314   64.4326   64.3187   64.3352   63.9794\n"
     ]
    }
   ],
   "source": [
    "prediction = reg.predict(X_test)[0]\n",
    "print(prediction)\n",
    "\n",
    "print(y_test)"
   ]
  },
  {
   "cell_type": "code",
   "execution_count": 77,
   "metadata": {},
   "outputs": [
    {
     "name": "stdout",
     "output_type": "stream",
     "text": [
      "0.780593173587177\n"
     ]
    }
   ],
   "source": [
    "print(np.linalg.norm(prediction - y_test))"
   ]
  },
  {
   "cell_type": "code",
   "execution_count": 78,
   "metadata": {},
   "outputs": [
    {
     "data": {
      "text/plain": [
       "<matplotlib.legend.Legend at 0x7f4586917b70>"
      ]
     },
     "execution_count": 78,
     "metadata": {},
     "output_type": "execute_result"
    },
    {
     "data": {
      "image/png": "[encoded data removed]",
      "text/plain": [
       "<Figure size 432x288 with 1 Axes>"
      ]
     },
     "metadata": {
      "needs_background": "light"
     },
     "output_type": "display_data"
    }
   ],
   "source": [
    "plt.plot(prediction, label=\"predicted\") # label <- легенда\n",
    "plt.plot(df[future_columns].iloc[-1], label=\"real\") # iloc <- вытаскивает элемент на указанной позиции\n",
    "plt.legend() # <- отрисовывает окошко с легендами"
   ]
  },
  {
   "cell_type": "code",
   "execution_count": null,
   "metadata": {},
   "outputs": [],
   "source": []
  },
  {
   "cell_type": "code",
   "execution_count": null,
   "metadata": {},
   "outputs": [],
   "source": []
  },
  {
   "cell_type": "code",
   "execution_count": null,
   "metadata": {},
   "outputs": [],
   "source": []
  },
  {
   "cell_type": "code",
   "execution_count": null,
   "metadata": {},
   "outputs": [],
   "source": [
    "# Домашнее задание\n",
    "# датасет будем присылать\n",
    "\n",
    "# https://scikit-learn.org/stable/modules/generated/sklearn.neural_network.MLPRegressor.html\n",
    "# 1) настроить алгоритм, чтобы суммарная ошибка была меньше 0.780593173587177\n",
    "# 2) добавить свой алгоритм из scikit-learn\n",
    "# 3) pdf/html -> в опросник\n",
    "\n",
    "# все должно работать\n",
    "# все пункты должны быть выполнены\n",
    "\n",
    "# оформление\n",
    "# комментарии\n",
    "# выводы\n",
    "\n",
    "# дедлайн: 12:00 МСК 14.08.2019"
   ]
  },
  {
   "cell_type": "code",
   "execution_count": 79,
   "metadata": {},
   "outputs": [],
   "source": [
    "from sklearn import neural_network"
   ]
  },
  {
   "cell_type": "code",
   "execution_count": 80,
   "metadata": {},
   "outputs": [],
   "source": [
    "reg = neural_network.MLPRegressor()\n",
    "reg = reg.fit(X, y)"
   ]
  },
  {
   "cell_type": "code",
   "execution_count": 81,
   "metadata": {},
   "outputs": [
    {
     "name": "stdout",
     "output_type": "stream",
     "text": [
      "[65.24653575 65.54515867 65.01201404 65.13434153 65.13948795 65.43584065\n",
      " 65.07356581]\n",
      "     future_1  future_2  future_3  future_4  future_5  future_6  future_7\n",
      "321   64.7919   64.5158   64.6314   64.4326   64.3187   64.3352   63.9794\n",
      "2.2329090146911947\n"
     ]
    }
   ],
   "source": [
    "prediction = reg.predict(X_test)[0]\n",
    "print(prediction)\n",
    "\n",
    "print(y_test)\n",
    "\n",
    "print(np.linalg.norm(prediction - y_test))"
   ]
  },
  {
   "cell_type": "code",
   "execution_count": 82,
   "metadata": {},
   "outputs": [
    {
     "data": {
      "text/plain": [
       "<matplotlib.legend.Legend at 0x7f4586a72c18>"
      ]
     },
     "execution_count": 82,
     "metadata": {},
     "output_type": "execute_result"
    },
    {
     "data": {
      "image/png": "[encoded data removed]",
      "text/plain": [
       "<Figure size 432x288 with 1 Axes>"
      ]
     },
     "metadata": {
      "needs_background": "light"
     },
     "output_type": "display_data"
    }
   ],
   "source": [
    "plt.plot(prediction, label=\"predicted\") # label <- легенда\n",
    "plt.plot(df[future_columns].iloc[-1], label=\"real\") # iloc <- вытаскивает элемент на указанной позиции\n",
    "plt.legend() # <- отрисовывает окошко с легендами"
   ]
  },
  {
   "cell_type": "code",
   "execution_count": null,
   "metadata": {},
   "outputs": [],
   "source": []
  }
 ],
 "metadata": {
  "kernelspec": {
   "display_name": "Python 3",
   "language": "python",
   "name": "python3"
  },
  "language_info": {
   "codemirror_mode": {
    "name": "ipython",
    "version": 3
   },
   "file_extension": ".py",
   "mimetype": "text/x-python",
   "name": "python",
   "nbconvert_exporter": "python",
   "pygments_lexer": "ipython3",
   "version": "3.7.3"
  }
 },
 "nbformat": 4,
 "nbformat_minor": 4
}
